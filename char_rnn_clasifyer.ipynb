{
 "cells": [
  {
   "cell_type": "markdown",
   "metadata": {},
   "source": [
    "# character rnn workshop"
   ]
  },
  {
   "cell_type": "markdown",
   "metadata": {},
   "source": [
    "designed to give some hands on exposure to a chracter rnn"
   ]
  },
  {
   "cell_type": "markdown",
   "metadata": {},
   "source": [
    "## setup"
   ]
  },
  {
   "cell_type": "code",
   "execution_count": 8,
   "metadata": {},
   "outputs": [],
   "source": [
    "! pip install -r requirements.txt"
   ]
  },
  {
   "cell_type": "code",
   "execution_count": 37,
   "metadata": {},
   "outputs": [],
   "source": [
    "# filesystem and data downloading libraries\n",
    "import os # for filesystem operations\n",
    "import requests # for interacting with webpages to get data\n",
    "from zipfile import ZipFile # unzip in python to keep it all in one place\\\n",
    "import glob # easy file matching\n",
    "\n",
    "# numerical libraries\n",
    "import random\n",
    "\n",
    "# text processing libraries\n",
    "import string\n",
    "import unicodedata\n",
    "\n",
    "import time\n",
    "\n",
    "# deep learning library\n",
    "import torch # mostly for tensors\n",
    "import torch.nn as nn # the Neural Networks module from torch. nn by convention\n",
    "\n",
    "# plotting library\n",
    "import matplotlib.pyplot as plt\n",
    "import matplotlib.ticker as ticker\n"
   ]
  },
  {
   "cell_type": "markdown",
   "metadata": {},
   "source": [
    "## getting the data"
   ]
  },
  {
   "cell_type": "code",
   "execution_count": 3,
   "metadata": {},
   "outputs": [],
   "source": [
    "# premade\n",
    "url = 'https://download.pytorch.org/tutorial/data.zip'\n",
    "\n",
    "# data download and file managment\n",
    "if not os.path.isdir('data'):\n",
    "    os.mkdir('data')\n",
    "if not os.path.isfile('data/name_data.zip'):\n",
    "    r = requests.get(url) # download the data\n",
    "    with open('data/name_data.zip', 'wb') as f:\n",
    "        f.write(r.content) # save the data to a file\n",
    "\n",
    "# extract the data\n",
    "with ZipFile('data/name_data.zip', 'r') as data_zip:\n",
    "   # Extract all the contents of the data zip file in to the data directory\n",
    "   data_zip.extractall()"
   ]
  },
  {
   "cell_type": "markdown",
   "metadata": {},
   "source": [
    "### look at the files and folders"
   ]
  },
  {
   "cell_type": "markdown",
   "metadata": {},
   "source": [
    "# look at the folders and the file contents"
   ]
  },
  {
   "cell_type": "code",
   "execution_count": 4,
   "metadata": {},
   "outputs": [
    {
     "name": "stdout",
     "output_type": "stream",
     "text": [
      "2000 ['Khoury\\n', 'Nahas\\n', 'Daher\\n', 'Gerges\\n', 'Nazari\\n', 'Maalouf\\n', 'Gerges\\n', 'Naifeh\\n', 'Guirguis\\n', 'Baba\\n']\n"
     ]
    }
   ],
   "source": [
    "# livecode\n",
    "os.listdir('data/names')\n",
    "with open('data/names/Arabic.txt') as f:\n",
    "    lines = [line for line in f]\n",
    "print(len(lines), lines[:10])"
   ]
  },
  {
   "cell_type": "code",
   "execution_count": 5,
   "metadata": {},
   "outputs": [
    {
     "data": {
      "text/plain": [
       "['data/names/Czech.txt',\n",
       " 'data/names/German.txt',\n",
       " 'data/names/Arabic.txt',\n",
       " 'data/names/Japanese.txt',\n",
       " 'data/names/Chinese.txt',\n",
       " 'data/names/Vietnamese.txt',\n",
       " 'data/names/Russian.txt',\n",
       " 'data/names/French.txt',\n",
       " 'data/names/Irish.txt',\n",
       " 'data/names/English.txt',\n",
       " 'data/names/Spanish.txt',\n",
       " 'data/names/Greek.txt',\n",
       " 'data/names/Italian.txt',\n",
       " 'data/names/Portuguese.txt',\n",
       " 'data/names/Scottish.txt',\n",
       " 'data/names/Dutch.txt',\n",
       " 'data/names/Korean.txt',\n",
       " 'data/names/Polish.txt']"
      ]
     },
     "execution_count": 5,
     "metadata": {},
     "output_type": "execute_result"
    }
   ],
   "source": [
    "# livecode\n",
    "fnames = glob.glob('data/names/*.txt')\n",
    "fnames"
   ]
  },
  {
   "cell_type": "markdown",
   "metadata": {},
   "source": [
    "## Loading the data"
   ]
  },
  {
   "cell_type": "markdown",
   "metadata": {},
   "source": [
    "### Helper functions"
   ]
  },
  {
   "cell_type": "code",
   "execution_count": 6,
   "metadata": {},
   "outputs": [],
   "source": [
    "# premade\n",
    "def unicode_to_ascii(s):\n",
    "    return ''.join(\n",
    "        c for c in unicodedata.normalize('NFD', s)\n",
    "        if unicodedata.category(c) != 'Mn'\n",
    "        and c in all_letters\n",
    "    )\n",
    "\n",
    "def clean_names(name):\n",
    "    return unicode_to_ascii(name.strip())"
   ]
  },
  {
   "cell_type": "code",
   "execution_count": 7,
   "metadata": {},
   "outputs": [
    {
     "data": {
      "text/plain": [
       "(57, \"abcdefghijklmnopqrstuvwxyzABCDEFGHIJKLMNOPQRSTUVWXYZ .,;'\")"
      ]
     },
     "execution_count": 7,
     "metadata": {},
     "output_type": "execute_result"
    }
   ],
   "source": [
    "# livecode\n",
    "all_letters = string.ascii_letters + \" .,;'\"\n",
    "n_letters = len(all_letters)\n",
    "n_letters, all_letters"
   ]
  },
  {
   "cell_type": "code",
   "execution_count": 8,
   "metadata": {},
   "outputs": [
    {
     "name": "stdout",
     "output_type": "stream",
     "text": [
      "18 ['Czech', 'German', 'Arabic', 'Japanese', 'Chinese', 'Vietnamese', 'Russian', 'French', 'Irish', 'English', 'Spanish', 'Greek', 'Italian', 'Portuguese', 'Scottish', 'Dutch', 'Korean', 'Polish']\n"
     ]
    }
   ],
   "source": [
    "# livecode\n",
    "all_languages = [] # list of language names\n",
    "language_names = {} # dict of key = language, value = list of all names in that language\n",
    "for fname in fnames:\n",
    "    with open(fname, 'r') as f:\n",
    "        language = os.path.basename(fname)[:-4]\n",
    "        names = [clean_names(line) for line in f]\n",
    "        all_languages.append(language)\n",
    "        language_names[language] = names\n",
    "n_languages = len(all_languages)\n",
    "print(n_languages, all_languages)"
   ]
  },
  {
   "cell_type": "markdown",
   "metadata": {},
   "source": [
    "## Data as tensors"
   ]
  },
  {
   "cell_type": "code",
   "execution_count": 9,
   "metadata": {},
   "outputs": [],
   "source": [
    "# livecode helper functions\n",
    "def character_to_tensor(c):\n",
    "    t = torch.zeros(1, n_letters) # size of tensor (1,n)\n",
    "    t[0, all_letters.find(c)] = 1 # set to one at index of character\n",
    "    return t\n",
    "\n",
    "def word_to_tensor(word):\n",
    "    w = torch.zeros(len(word), 1, n_letters) # size of tensor (w, 1, n)\n",
    "    for i, c in enumerate(word):\n",
    "        w[i,0,all_letters.find(c)] = 1\n",
    "    return w\n",
    "\n",
    "def word_to_tensor_cat(word):\n",
    "    # maybe dont include as it has unsqueezing\n",
    "    character_vectors = [character_to_tensor(c) for c in word]\n",
    "    return torch.cat(character_vectors).unsqueeze(1)"
   ]
  },
  {
   "cell_type": "code",
   "execution_count": 10,
   "metadata": {},
   "outputs": [
    {
     "data": {
      "text/plain": [
       "torch.Size([1, 57])"
      ]
     },
     "execution_count": 10,
     "metadata": {},
     "output_type": "execute_result"
    }
   ],
   "source": [
    "character_to_tensor('a').size()#, character_to_tensor('a')"
   ]
  },
  {
   "cell_type": "code",
   "execution_count": 11,
   "metadata": {},
   "outputs": [
    {
     "data": {
      "text/plain": [
       "torch.Size([3, 1, 57])"
      ]
     },
     "execution_count": 11,
     "metadata": {},
     "output_type": "execute_result"
    }
   ],
   "source": [
    "word_to_tensor('abc').size()#, word_to_tensor('abc')"
   ]
  },
  {
   "cell_type": "code",
   "execution_count": 12,
   "metadata": {},
   "outputs": [
    {
     "data": {
      "text/plain": [
       "torch.Size([3, 1, 57])"
      ]
     },
     "execution_count": 12,
     "metadata": {},
     "output_type": "execute_result"
    }
   ],
   "source": [
    "word_to_tensor_cat('abc').size()#, word_to_tensor_cat('abc')"
   ]
  },
  {
   "cell_type": "markdown",
   "metadata": {},
   "source": [
    "## The network!"
   ]
  },
  {
   "cell_type": "markdown",
   "metadata": {},
   "source": [
    "This is the RNN structure that we want to be building:\n",
    "![network diagram](network_structure.png)"
   ]
  },
  {
   "cell_type": "code",
   "execution_count": 13,
   "metadata": {},
   "outputs": [],
   "source": [
    "class RNN(nn.Module):\n",
    "    def __init__(self, data_size, hidden_size, output_size):\n",
    "        \"\"\"Sets up class attributes and layers\"\"\"\n",
    "        super(RNN, self).__init__()\n",
    "        self.combined_input_size = data_size + hidden_size\n",
    "        self.hidden_size = hidden_size\n",
    "        \n",
    "        # fully connected layers\n",
    "        self.i2o = nn.Linear(self.combined_input_size, output_size) \n",
    "        self.i2h = nn.Linear(self.combined_input_size, hidden_size) \n",
    "        \n",
    "        #softmax to turn output into probability\n",
    "        self.softmax = nn.Softmax(dim=1) \n",
    "    \n",
    "    def forward(self, x, last_hidden):\n",
    "        \"\"\"Describes how data moves through the RNN\"\"\"\n",
    "        combined_input = torch.cat([x, last_hidden], dim=1)\n",
    "        output = self.i2o(combined_input)\n",
    "        hidden = self.i2h(combined_input)\n",
    "        output_probabilities = self.softmax(output)\n",
    "        return output_probabilities, hidden\n",
    "        "
   ]
  },
  {
   "cell_type": "code",
   "execution_count": 14,
   "metadata": {},
   "outputs": [],
   "source": [
    "n_hidden = 128\n",
    "hidden_start = torch.zeros(1,n_hidden)\n",
    "rnn = RNN(n_letters, n_hidden, n_languages)"
   ]
  },
  {
   "cell_type": "code",
   "execution_count": 15,
   "metadata": {},
   "outputs": [],
   "source": [
    "output, hidden = rnn(character_to_tensor('a'), hidden_start)"
   ]
  },
  {
   "cell_type": "code",
   "execution_count": 16,
   "metadata": {},
   "outputs": [
    {
     "data": {
      "text/plain": [
       "(torch.Size([1, 18]),\n",
       " tensor([[0.0504, 0.0554, 0.0563, 0.0503, 0.0544, 0.0547, 0.0606, 0.0566, 0.0535,\n",
       "          0.0509, 0.0586, 0.0547, 0.0537, 0.0589, 0.0585, 0.0570, 0.0593, 0.0561]],\n",
       "        grad_fn=<SoftmaxBackward>))"
      ]
     },
     "execution_count": 16,
     "metadata": {},
     "output_type": "execute_result"
    }
   ],
   "source": [
    "output.size(), output "
   ]
  },
  {
   "cell_type": "code",
   "execution_count": 17,
   "metadata": {},
   "outputs": [
    {
     "data": {
      "text/plain": [
       "tensor(1.0000, grad_fn=<SumBackward0>)"
      ]
     },
     "execution_count": 17,
     "metadata": {},
     "output_type": "execute_result"
    }
   ],
   "source": [
    "output.sum()"
   ]
  },
  {
   "cell_type": "code",
   "execution_count": 18,
   "metadata": {},
   "outputs": [
    {
     "data": {
      "text/plain": [
       "torch.Size([1, 128])"
      ]
     },
     "execution_count": 18,
     "metadata": {},
     "output_type": "execute_result"
    }
   ],
   "source": [
    "hidden.size()#, hidden"
   ]
  },
  {
   "cell_type": "markdown",
   "metadata": {},
   "source": [
    "### making sense of model output"
   ]
  },
  {
   "cell_type": "code",
   "execution_count": 19,
   "metadata": {},
   "outputs": [],
   "source": [
    "# live code\n",
    "def language_from_output(output):\n",
    "    top_n, top_i = output.topk(1) # gives the top 1 score and index\n",
    "    index = top_i[0].item() # convert tensor to float\n",
    "    score = top_n[0].item()\n",
    "    language = all_languages[index]\n",
    "    return language, index, score"
   ]
  },
  {
   "cell_type": "code",
   "execution_count": 20,
   "metadata": {},
   "outputs": [
    {
     "data": {
      "text/plain": [
       "('Russian', 6, 0.0606122687458992)"
      ]
     },
     "execution_count": 20,
     "metadata": {},
     "output_type": "execute_result"
    }
   ],
   "source": [
    "language_from_output(output)"
   ]
  },
  {
   "cell_type": "markdown",
   "metadata": {},
   "source": [
    "## Sampling the data"
   ]
  },
  {
   "cell_type": "code",
   "execution_count": 21,
   "metadata": {},
   "outputs": [],
   "source": [
    "def random_choice(l):\n",
    "    return l[random.randint(0,len(l)-1)]\n",
    "\n",
    "def random_language_name():\n",
    "    \"\"\"returns all the information for a random language-name pair\"\"\"\n",
    "    language = random_choice(all_languages)\n",
    "    name = random_choice(language_names[language])\n",
    "    \n",
    "    language_index = all_languages.index(language)\n",
    "    language_tensor = torch.tensor([language_index], dtype=torch.long)\n",
    "    name_tensor = word_to_tensor(name)\n",
    "    return language, name, language_tensor, name_tensor"
   ]
  },
  {
   "cell_type": "code",
   "execution_count": 22,
   "metadata": {},
   "outputs": [
    {
     "data": {
      "text/plain": [
       "('Polish',\n",
       " 'Slazak',\n",
       " tensor([17]),\n",
       " tensor([[[0., 0., 0., 0., 0., 0., 0., 0., 0., 0., 0., 0., 0., 0., 0., 0., 0.,\n",
       "           0., 0., 0., 0., 0., 0., 0., 0., 0., 0., 0., 0., 0., 0., 0., 0., 0.,\n",
       "           0., 0., 0., 0., 0., 0., 0., 0., 0., 0., 1., 0., 0., 0., 0., 0., 0.,\n",
       "           0., 0., 0., 0., 0., 0.]],\n",
       " \n",
       "         [[0., 0., 0., 0., 0., 0., 0., 0., 0., 0., 0., 1., 0., 0., 0., 0., 0.,\n",
       "           0., 0., 0., 0., 0., 0., 0., 0., 0., 0., 0., 0., 0., 0., 0., 0., 0.,\n",
       "           0., 0., 0., 0., 0., 0., 0., 0., 0., 0., 0., 0., 0., 0., 0., 0., 0.,\n",
       "           0., 0., 0., 0., 0., 0.]],\n",
       " \n",
       "         [[1., 0., 0., 0., 0., 0., 0., 0., 0., 0., 0., 0., 0., 0., 0., 0., 0.,\n",
       "           0., 0., 0., 0., 0., 0., 0., 0., 0., 0., 0., 0., 0., 0., 0., 0., 0.,\n",
       "           0., 0., 0., 0., 0., 0., 0., 0., 0., 0., 0., 0., 0., 0., 0., 0., 0.,\n",
       "           0., 0., 0., 0., 0., 0.]],\n",
       " \n",
       "         [[0., 0., 0., 0., 0., 0., 0., 0., 0., 0., 0., 0., 0., 0., 0., 0., 0.,\n",
       "           0., 0., 0., 0., 0., 0., 0., 0., 1., 0., 0., 0., 0., 0., 0., 0., 0.,\n",
       "           0., 0., 0., 0., 0., 0., 0., 0., 0., 0., 0., 0., 0., 0., 0., 0., 0.,\n",
       "           0., 0., 0., 0., 0., 0.]],\n",
       " \n",
       "         [[1., 0., 0., 0., 0., 0., 0., 0., 0., 0., 0., 0., 0., 0., 0., 0., 0.,\n",
       "           0., 0., 0., 0., 0., 0., 0., 0., 0., 0., 0., 0., 0., 0., 0., 0., 0.,\n",
       "           0., 0., 0., 0., 0., 0., 0., 0., 0., 0., 0., 0., 0., 0., 0., 0., 0.,\n",
       "           0., 0., 0., 0., 0., 0.]],\n",
       " \n",
       "         [[0., 0., 0., 0., 0., 0., 0., 0., 0., 0., 1., 0., 0., 0., 0., 0., 0.,\n",
       "           0., 0., 0., 0., 0., 0., 0., 0., 0., 0., 0., 0., 0., 0., 0., 0., 0.,\n",
       "           0., 0., 0., 0., 0., 0., 0., 0., 0., 0., 0., 0., 0., 0., 0., 0., 0.,\n",
       "           0., 0., 0., 0., 0., 0.]]]))"
      ]
     },
     "execution_count": 22,
     "metadata": {},
     "output_type": "execute_result"
    }
   ],
   "source": [
    "random_language_name()"
   ]
  },
  {
   "cell_type": "code",
   "execution_count": 23,
   "metadata": {},
   "outputs": [
    {
     "name": "stdout",
     "output_type": "stream",
     "text": [
      "language:  Russian tensor([6]) name:  Voznitsin torch.Size([9, 1, 57])\n",
      "language:  French tensor([7]) name:  Albert torch.Size([6, 1, 57])\n",
      "language:  Spanish tensor([10]) name:  Robledo torch.Size([7, 1, 57])\n",
      "language:  German tensor([1]) name:  Messner torch.Size([7, 1, 57])\n",
      "language:  Russian tensor([6]) name:  Martyshov torch.Size([9, 1, 57])\n",
      "language:  English tensor([9]) name:  Allcock torch.Size([7, 1, 57])\n",
      "language:  Italian tensor([12]) name:  Bove torch.Size([4, 1, 57])\n",
      "language:  Portuguese tensor([13]) name:  Belo torch.Size([4, 1, 57])\n",
      "language:  Scottish tensor([14]) name:  Hughes torch.Size([6, 1, 57])\n",
      "language:  English tensor([9]) name:  Leyshon torch.Size([7, 1, 57])\n"
     ]
    }
   ],
   "source": [
    "for i in range(10):\n",
    "    lang, name, lang_t, name_t = random_language_name()\n",
    "    print(\"language: \", lang,  lang_t, \"name: \", name, name_t.size())"
   ]
  },
  {
   "cell_type": "markdown",
   "metadata": {},
   "source": [
    "## Training"
   ]
  },
  {
   "cell_type": "code",
   "execution_count": 33,
   "metadata": {},
   "outputs": [],
   "source": [
    "def evaluate_confusion(rnn, n_samples = 1000):\n",
    "    confusion = torch.zeros(n_languages, n_languages)\n",
    "    for i in range(n_samples):\n",
    "        lang, name, lang_t, name_t = random_language_name()\n",
    "        output = evaluate(rnn,name_t)\n",
    "        guess_lang, guess_index, _ = language_from_output(output)\n",
    "        confusion[all_languages.index(lang),guess_index] += 1\n",
    "\n",
    "        # Normalize by dividing every row by its sum\n",
    "    for i in range(n_languages):\n",
    "        confusion[i] = confusion[i] / confusion[i].sum()\n",
    "    return confusion\n",
    "def plot_confusion(confusion):\n",
    "    # Set up plot\n",
    "    fig = plt.figure(facecolor='white',figsize=(5,5))\n",
    "    ax = fig.add_subplot(111)\n",
    "    cax = ax.matshow(confusion.numpy())\n",
    "    fig.colorbar(cax)\n",
    "    # Set up axes\n",
    "    ax.set_xticklabels([''] + all_languages, rotation=90)\n",
    "    ax.set_yticklabels([''] + all_languages)\n",
    "\n",
    "    # Force label at every tick\n",
    "    ax.xaxis.set_major_locator(ticker.MultipleLocator(1))\n",
    "    ax.yaxis.set_major_locator(ticker.MultipleLocator(1))\n",
    "    plt.show()"
   ]
  },
  {
   "cell_type": "code",
   "execution_count": 34,
   "metadata": {},
   "outputs": [
    {
     "data": {
      "image/png": "[encoded data removed]",
      "text/plain": [
       "<Figure size 360x360 with 2 Axes>"
      ]
     },
     "metadata": {},
     "output_type": "display_data"
    }
   ],
   "source": [
    "confusion = evaluate_confusion(rnn, n_samples = 1000)\n",
    "plot_confusion(confusion)"
   ]
  },
  {
   "cell_type": "code",
   "execution_count": 25,
   "metadata": {},
   "outputs": [],
   "source": [
    "criterion = nn.NLLLoss() # negative log likelihood loss. Convention\n",
    "lr = 0.005 # starter learning rate\n",
    "\n",
    "def evaluate(rnn, name_t):\n",
    "    hidden = torch.zeros(1,rnn.hidden_size) # initial zero hidden state\n",
    "    rnn.zero_grad() # removes all gradients from last time\n",
    "    # loops over the name, passing the hidden vector along each time\n",
    "    for i in range(name_t.size(0)):\n",
    "        output, hidden = rnn(name_t[i], hidden) \n",
    "    return output\n",
    "\n",
    "def train_step(lang_t, name_t):\n",
    "    \n",
    "    output = evaluate(rnn, name_t)\n",
    "    \n",
    "    log_likelihood = torch.log(output) # convert to log cause math\n",
    "    \n",
    "    # how wrong are we?\n",
    "    loss = criterion(log_likelihood, lang_t)\n",
    "    \n",
    "    # automagick backpropagation\n",
    "    loss.backward()\n",
    "    \n",
    "    for p in rnn.parameters():\n",
    "        p.data.add_(-lr, p.grad.data)\n",
    "    return output, loss.item()"
   ]
  },
  {
   "cell_type": "code",
   "execution_count": 26,
   "metadata": {},
   "outputs": [
    {
     "data": {
      "text/plain": [
       "(tensor([[0.0507, 0.0558, 0.0584, 0.0490, 0.0517, 0.0554, 0.0595, 0.0566, 0.0556,\n",
       "          0.0506, 0.0609, 0.0537, 0.0535, 0.0593, 0.0561, 0.0561, 0.0613, 0.0557]],\n",
       "        grad_fn=<SoftmaxBackward>), 2.9249837398529053)"
      ]
     },
     "execution_count": 26,
     "metadata": {},
     "output_type": "execute_result"
    }
   ],
   "source": [
    "lang, name, lang_t, name_t = random_language_name()\n",
    "train_step(lang_t, name_t)"
   ]
  },
  {
   "cell_type": "code",
   "execution_count": 45,
   "metadata": {},
   "outputs": [],
   "source": [
    "def time_since(start):\n",
    "    \"\"\"little helper for pretty timestampinh\"\"\"\n",
    "    now = time.time()\n",
    "    dt = now - start\n",
    "    mins = int(dt/60)\n",
    "    return f'{mins:>02}:{dt - mins*60:>05.2f}(m:s)'\n",
    "    \n",
    "def train(rnn, n_iters):\n",
    "    eval_every = (n_iters//10)\n",
    "    losses = []\n",
    "    confusions = []\n",
    "    start = time.time()\n",
    "    for i in range(n_iters):\n",
    "        lang, name, lang_t, name_t = random_language_name()\n",
    "        output, loss = train_step(lang_t, name_t)\n",
    "        losses.append(loss)\n",
    "        \n",
    "        if (i+1)%eval_every==0 :\n",
    "                confusions.append(evaluate_confusion(rnn))\n",
    "                av_loss = sum(losses[-eval_every:])/eval_every\n",
    "                print(f'iter = {i+1:<6} training time = {time_since(start)} %done = {i/n_iters*100:<5.0f}% loss = {av_loss:<10.4f}')\n",
    "        "
   ]
  },
  {
   "cell_type": "code",
   "execution_count": 46,
   "metadata": {},
   "outputs": [
    {
     "name": "stdout",
     "output_type": "stream",
     "text": [
      "iter = 1000   training time = 00:02.13(m:s) %done = 10   % loss = 2.0691    \n",
      "iter = 2000   training time = 00:04.49(m:s) %done = 20   % loss = 2.0740    \n",
      "iter = 3000   training time = 00:06.93(m:s) %done = 30   % loss = 2.0649    \n",
      "iter = 4000   training time = 00:09.29(m:s) %done = 40   % loss = 1.9706    \n",
      "iter = 5000   training time = 00:11.69(m:s) %done = 50   % loss = 1.9098    \n"
     ]
    },
    {
     "ename": "KeyboardInterrupt",
     "evalue": "",
     "output_type": "error",
     "traceback": [
      "\u001b[0;31m---------------------------------------------------------------------------\u001b[0m",
      "\u001b[0;31mKeyboardInterrupt\u001b[0m                         Traceback (most recent call last)",
      "\u001b[0;32m<ipython-input-46-9ea1750b4ba9>\u001b[0m in \u001b[0;36m<module>\u001b[0;34m\u001b[0m\n\u001b[0;32m----> 1\u001b[0;31m \u001b[0mtrain\u001b[0m\u001b[0;34m(\u001b[0m\u001b[0mrnn\u001b[0m\u001b[0;34m,\u001b[0m \u001b[0;36m10000\u001b[0m\u001b[0;34m)\u001b[0m\u001b[0;34m\u001b[0m\u001b[0;34m\u001b[0m\u001b[0m\n\u001b[0m",
      "\u001b[0;32m<ipython-input-45-ce1049f11033>\u001b[0m in \u001b[0;36mtrain\u001b[0;34m(rnn, n_iters)\u001b[0m\n\u001b[1;32m     13\u001b[0m     \u001b[0;32mfor\u001b[0m \u001b[0mi\u001b[0m \u001b[0;32min\u001b[0m \u001b[0mrange\u001b[0m\u001b[0;34m(\u001b[0m\u001b[0mn_iters\u001b[0m\u001b[0;34m)\u001b[0m\u001b[0;34m:\u001b[0m\u001b[0;34m\u001b[0m\u001b[0;34m\u001b[0m\u001b[0m\n\u001b[1;32m     14\u001b[0m         \u001b[0mlang\u001b[0m\u001b[0;34m,\u001b[0m \u001b[0mname\u001b[0m\u001b[0;34m,\u001b[0m \u001b[0mlang_t\u001b[0m\u001b[0;34m,\u001b[0m \u001b[0mname_t\u001b[0m \u001b[0;34m=\u001b[0m \u001b[0mrandom_language_name\u001b[0m\u001b[0;34m(\u001b[0m\u001b[0;34m)\u001b[0m\u001b[0;34m\u001b[0m\u001b[0;34m\u001b[0m\u001b[0m\n\u001b[0;32m---> 15\u001b[0;31m         \u001b[0moutput\u001b[0m\u001b[0;34m,\u001b[0m \u001b[0mloss\u001b[0m \u001b[0;34m=\u001b[0m \u001b[0mtrain_step\u001b[0m\u001b[0;34m(\u001b[0m\u001b[0mlang_t\u001b[0m\u001b[0;34m,\u001b[0m \u001b[0mname_t\u001b[0m\u001b[0;34m)\u001b[0m\u001b[0;34m\u001b[0m\u001b[0;34m\u001b[0m\u001b[0m\n\u001b[0m\u001b[1;32m     16\u001b[0m         \u001b[0mlosses\u001b[0m\u001b[0;34m.\u001b[0m\u001b[0mappend\u001b[0m\u001b[0;34m(\u001b[0m\u001b[0mloss\u001b[0m\u001b[0;34m)\u001b[0m\u001b[0;34m\u001b[0m\u001b[0;34m\u001b[0m\u001b[0m\n\u001b[1;32m     17\u001b[0m \u001b[0;34m\u001b[0m\u001b[0m\n",
      "\u001b[0;32m<ipython-input-25-89b053fce444>\u001b[0m in \u001b[0;36mtrain_step\u001b[0;34m(lang_t, name_t)\u001b[0m\n\u001b[1;32m     14\u001b[0m     \u001b[0moutput\u001b[0m \u001b[0;34m=\u001b[0m \u001b[0mevaluate\u001b[0m\u001b[0;34m(\u001b[0m\u001b[0mrnn\u001b[0m\u001b[0;34m,\u001b[0m \u001b[0mname_t\u001b[0m\u001b[0;34m)\u001b[0m\u001b[0;34m\u001b[0m\u001b[0;34m\u001b[0m\u001b[0m\n\u001b[1;32m     15\u001b[0m \u001b[0;34m\u001b[0m\u001b[0m\n\u001b[0;32m---> 16\u001b[0;31m     \u001b[0mlog_likelihood\u001b[0m \u001b[0;34m=\u001b[0m \u001b[0mtorch\u001b[0m\u001b[0;34m.\u001b[0m\u001b[0mlog\u001b[0m\u001b[0;34m(\u001b[0m\u001b[0moutput\u001b[0m\u001b[0;34m)\u001b[0m \u001b[0;31m# convert to log cause math\u001b[0m\u001b[0;34m\u001b[0m\u001b[0;34m\u001b[0m\u001b[0m\n\u001b[0m\u001b[1;32m     17\u001b[0m \u001b[0;34m\u001b[0m\u001b[0m\n\u001b[1;32m     18\u001b[0m     \u001b[0;31m# how wrong are we?\u001b[0m\u001b[0;34m\u001b[0m\u001b[0;34m\u001b[0m\u001b[0;34m\u001b[0m\u001b[0m\n",
      "\u001b[0;31mKeyboardInterrupt\u001b[0m: "
     ]
    }
   ],
   "source": [
    "train(rnn, 10000)"
   ]
  },
  {
   "cell_type": "code",
   "execution_count": 47,
   "metadata": {},
   "outputs": [
    {
     "data": {
      "image/png": "[encoded data removed]",
      "text/plain": [
       "<Figure size 360x360 with 2 Axes>"
      ]
     },
     "metadata": {},
     "output_type": "display_data"
    }
   ],
   "source": [
    "confusion = evaluate_confusion(rnn, n_samples = 1000)\n",
    "plot_confusion(confusion)"
   ]
  },
  {
   "cell_type": "code",
   "execution_count": null,
   "metadata": {},
   "outputs": [],
   "source": []
  }
 ],
 "metadata": {
  "kernelspec": {
   "display_name": "Python 3",
   "language": "python",
   "name": "python3"
  },
  "language_info": {
   "codemirror_mode": {
    "name": "ipython",
    "version": 3
   },
   "file_extension": ".py",
   "mimetype": "text/x-python",
   "name": "python",
   "nbconvert_exporter": "python",
   "pygments_lexer": "ipython3",
   "version": "3.7.6"
  }
 },
 "nbformat": 4,
 "nbformat_minor": 4
}
