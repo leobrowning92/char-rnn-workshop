{
 "cells": [
  {
   "cell_type": "markdown",
   "metadata": {},
   "source": [
    "# character rnn workshop"
   ]
  },
  {
   "cell_type": "markdown",
   "metadata": {},
   "source": [
    "designed to give some hands on exposure to a chracter rnn"
   ]
  },
  {
   "cell_type": "markdown",
   "metadata": {},
   "source": [
    "## setup"
   ]
  },
  {
   "cell_type": "code",
   "execution_count": 8,
   "metadata": {},
   "outputs": [],
   "source": [
    "! pip install -r requirements.txt"
   ]
  },
  {
   "cell_type": "code",
   "execution_count": 20,
   "metadata": {},
   "outputs": [],
   "source": [
    "# filesystem and data downloading libraries\n",
    "import os # for filesystem operations\n",
    "import requests # for interacting with webpages to get data\n",
    "from zipfile import ZipFile # unzip in python to keep it all in one place\\\n",
    "import glob # easy file matching\n",
    "\n",
    "# text processing libraries\n",
    "import string\n",
    "import unicodedata\n"
   ]
  },
  {
   "cell_type": "markdown",
   "metadata": {},
   "source": [
    "## getting the data"
   ]
  },
  {
   "cell_type": "code",
   "execution_count": 4,
   "metadata": {},
   "outputs": [],
   "source": [
    "# premade\n",
    "url = 'https://download.pytorch.org/tutorial/data.zip'\n",
    "\n",
    "# data download and file managment\n",
    "if not os.path.isdir('data'):\n",
    "    os.mkdir('data')\n",
    "if not os.path.isfile('data/name_data.zip'):\n",
    "    r = requests.get(url) # download the data\n",
    "    with open('data/name_data.zip', 'wb') as f:\n",
    "        f.write(r.content) # save the data to a file\n",
    "\n",
    "# extract the data\n",
    "with ZipFile('data/name_data.zip', 'r') as data_zip:\n",
    "   # Extract all the contents of the data zip file in to the data directory\n",
    "   data_zip.extractall()"
   ]
  },
  {
   "cell_type": "markdown",
   "metadata": {},
   "source": [
    "### look at the files and folders"
   ]
  },
  {
   "cell_type": "markdown",
   "metadata": {},
   "source": [
    "# look at the folders and the file contents"
   ]
  },
  {
   "cell_type": "code",
   "execution_count": 14,
   "metadata": {},
   "outputs": [
    {
     "name": "stdout",
     "output_type": "stream",
     "text": [
      "2000 ['Khoury\\n', 'Nahas\\n', 'Daher\\n', 'Gerges\\n', 'Nazari\\n', 'Maalouf\\n', 'Gerges\\n', 'Naifeh\\n', 'Guirguis\\n', 'Baba\\n']\n"
     ]
    }
   ],
   "source": [
    "# livecode\n",
    "os.listdir('data/names')\n",
    "with open('data/names/Arabic.txt') as f:\n",
    "    lines = [line for line in f]\n",
    "print(len(lines), lines[:10])"
   ]
  },
  {
   "cell_type": "code",
   "execution_count": 22,
   "metadata": {},
   "outputs": [
    {
     "data": {
      "text/plain": [
       "['data/names/Czech.txt',\n",
       " 'data/names/German.txt',\n",
       " 'data/names/Arabic.txt',\n",
       " 'data/names/Japanese.txt',\n",
       " 'data/names/Chinese.txt',\n",
       " 'data/names/Vietnamese.txt',\n",
       " 'data/names/Russian.txt',\n",
       " 'data/names/French.txt',\n",
       " 'data/names/Irish.txt',\n",
       " 'data/names/English.txt',\n",
       " 'data/names/Spanish.txt',\n",
       " 'data/names/Greek.txt',\n",
       " 'data/names/Italian.txt',\n",
       " 'data/names/Portuguese.txt',\n",
       " 'data/names/Scottish.txt',\n",
       " 'data/names/Dutch.txt',\n",
       " 'data/names/Korean.txt',\n",
       " 'data/names/Polish.txt']"
      ]
     },
     "execution_count": 22,
     "metadata": {},
     "output_type": "execute_result"
    }
   ],
   "source": [
    "# livecode\n",
    "fnames = glob.glob('data/names/*.txt')\n",
    "fnames"
   ]
  },
  {
   "cell_type": "markdown",
   "metadata": {},
   "source": [
    "## Loading the data"
   ]
  },
  {
   "cell_type": "markdown",
   "metadata": {},
   "source": [
    "### Helper functions"
   ]
  },
  {
   "cell_type": "code",
   "execution_count": 9,
   "metadata": {},
   "outputs": [],
   "source": [
    "# premade\n",
    "def unicode_to_ascii(s):\n",
    "    return ''.join(\n",
    "        c for c in unicodedata.normalize('NFD', s)\n",
    "        if unicodedata.category(c) != 'Mn'\n",
    "        and c in all_letters\n",
    "    )\n",
    "\n",
    "def clean_names(name):\n",
    "    return unicode_to_ascii(name.strip())"
   ]
  },
  {
   "cell_type": "code",
   "execution_count": 18,
   "metadata": {},
   "outputs": [
    {
     "data": {
      "text/plain": [
       "(57, \"abcdefghijklmnopqrstuvwxyzABCDEFGHIJKLMNOPQRSTUVWXYZ .,;'\")"
      ]
     },
     "execution_count": 18,
     "metadata": {},
     "output_type": "execute_result"
    }
   ],
   "source": [
    "# livecode\n",
    "all_letters = string.ascii_letters + \" .,;'\"\n",
    "n_letters = len(all_letters)\n",
    "n_letters, all_letters"
   ]
  },
  {
   "cell_type": "code",
   "execution_count": 23,
   "metadata": {},
   "outputs": [
    {
     "name": "stdout",
     "output_type": "stream",
     "text": [
      "18 ['Czech', 'German', 'Arabic', 'Japanese', 'Chinese', 'Vietnamese', 'Russian', 'French', 'Irish', 'English', 'Spanish', 'Greek', 'Italian', 'Portuguese', 'Scottish', 'Dutch', 'Korean', 'Polish']\n"
     ]
    }
   ],
   "source": [
    "# livecode\n",
    "all_languages = [] # list of language names\n",
    "language_names = {} # dict of key = language, value = list of all names in that language\n",
    "for fname in fnames:\n",
    "    with open(fname, 'r') as f:\n",
    "        language = os.path.basename(fname)[:-4]\n",
    "        names = [clean_names(line) for line in f]\n",
    "        all_languages.append(language)\n",
    "        language_names[language] = names\n",
    "n_languages = len(all_languages)\n",
    "print(n_languages, all_languages)"
   ]
  },
  {
   "cell_type": "markdown",
   "metadata": {},
   "source": [
    "## Data as tensors"
   ]
  },
  {
   "cell_type": "code",
   "execution_count": null,
   "metadata": {},
   "outputs": [],
   "source": [
    "# livecode helper functions\n",
    "def letter_to_tensor(l)"
   ]
  }
 ],
 "metadata": {
  "kernelspec": {
   "display_name": "Python 3",
   "language": "python",
   "name": "python3"
  },
  "language_info": {
   "codemirror_mode": {
    "name": "ipython",
    "version": 3
   },
   "file_extension": ".py",
   "mimetype": "text/x-python",
   "name": "python",
   "nbconvert_exporter": "python",
   "pygments_lexer": "ipython3",
   "version": "3.7.6"
  }
 },
 "nbformat": 4,
 "nbformat_minor": 4
}
